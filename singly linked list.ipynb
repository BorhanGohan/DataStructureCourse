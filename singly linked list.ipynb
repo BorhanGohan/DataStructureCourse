{
  "nbformat": 4,
  "nbformat_minor": 0,
  "metadata": {
    "colab": {
      "provenance": [],
      "authorship_tag": "ABX9TyMc30e09+ZQ3wY8rF/3cKv2",
      "include_colab_link": true
    },
    "kernelspec": {
      "name": "python3",
      "display_name": "Python 3"
    },
    "language_info": {
      "name": "python"
    }
  },
  "cells": [
    {
      "cell_type": "markdown",
      "metadata": {
        "id": "view-in-github",
        "colab_type": "text"
      },
      "source": [
        "<a href=\"https://colab.research.google.com/github/BorhanGohan/DataStructureCourse/blob/main/singly%20linked%20list.ipynb\" target=\"_parent\"><img src=\"https://colab.research.google.com/assets/colab-badge.svg\" alt=\"Open In Colab\"/></a>"
      ]
    },
    {
      "cell_type": "code",
      "execution_count": 19,
      "metadata": {
        "colab": {
          "base_uri": "https://localhost:8080/"
        },
        "id": "t9RCvoMKZtrj",
        "outputId": "502987a7-3d0d-470a-bc20-fcf27c4ea04e"
      },
      "outputs": [
        {
          "output_type": "stream",
          "name": "stdout",
          "text": [
            "7\n",
            "10 -> 91 -> 19 -> 20 -> 19 -> 11 -> 100 -> "
          ]
        }
      ],
      "source": [
        "class node:\n",
        "  def __init__(self, data):\n",
        "    self.data=data\n",
        "    self.next=None\n",
        "\n",
        "class singlylinkedlist:\n",
        "  def __init__(self):\n",
        "    self.head=None\n",
        "    self.size=0\n",
        "\n",
        "  def append(self, new_data):\n",
        "    new_node=node(new_data)\n",
        "    if self.head is None:\n",
        "      self.head=new_node\n",
        "    else:\n",
        "      current_node=self.head\n",
        "      while current_node.next is not None:\n",
        "        current_node=current_node.next\n",
        "      current_node.next=new_node\n",
        "    self.size+=1\n",
        "\n",
        "  def print_all(self):\n",
        "    current_node=self.head\n",
        "    while current_node!=None:\n",
        "      print(current_node.data, end=' -> ')\n",
        "      current_node=current_node.next\n",
        "  \n",
        "\n",
        "\n",
        "s=singlylinkedlist()\n",
        "s.append(10)\n",
        "s.append(91)\n",
        "s.append(19)\n",
        "s.append(20)\n",
        "s.append(19)\n",
        "s.append(11)\n",
        "s.append(100)\n",
        "print(s.size)\n",
        "s.print_all()\n",
        "\n"
      ]
    },
    {
      "cell_type": "code",
      "source": [],
      "metadata": {
        "id": "KbByk-czjguT"
      },
      "execution_count": null,
      "outputs": []
    }
  ]
}